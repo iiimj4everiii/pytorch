{
 "cells": [
  {
   "cell_type": "markdown",
   "id": "bf9a2267",
   "metadata": {},
   "source": [
    "# Setting up all the data needed for training and testing."
   ]
  },
  {
   "cell_type": "code",
   "execution_count": 1,
   "id": "a200d28b",
   "metadata": {},
   "outputs": [],
   "source": [
    "import torch\n",
    "import torchvision\n",
    "from torchvision import transforms, datasets\n",
    "\n",
    "train = datasets.MNIST(\"data\", train=True, download=True,\n",
    "                      transform=transforms.Compose([transforms.ToTensor()]))\n",
    "\n",
    "test = datasets.MNIST(\"data\", train=False, download=True,\n",
    "                    transform=transforms.Compose([transforms.ToTensor()]))\n",
    "\n",
    "train_set = torch.utils.data.DataLoader(train, batch_size=10, shuffle=True)\n",
    "test_set = torch.utils.data.DataLoader(test, batch_size=10, shuffle=True)"
   ]
  },
  {
   "cell_type": "markdown",
   "id": "06fd7d13",
   "metadata": {},
   "source": [
    "# Importing libraries to help us build and train NN."
   ]
  },
  {
   "cell_type": "code",
   "execution_count": 2,
   "id": "a1bdeb4f",
   "metadata": {},
   "outputs": [],
   "source": [
    "import torch.nn as nn\n",
    "import torch.nn.functional as F"
   ]
  },
  {
   "cell_type": "markdown",
   "id": "02cf1640",
   "metadata": {},
   "source": [
    "# OOP - Building a NN class inheriting from nn.Module."
   ]
  },
  {
   "cell_type": "code",
   "execution_count": 3,
   "id": "e18eeec3",
   "metadata": {},
   "outputs": [
    {
     "name": "stdout",
     "output_type": "stream",
     "text": [
      "NeuralNet(\n",
      "  (in_L1): Linear(in_features=784, out_features=64, bias=True)\n",
      "  (L1_L2): Linear(in_features=64, out_features=64, bias=True)\n",
      "  (L2_L3): Linear(in_features=64, out_features=64, bias=True)\n",
      "  (L3_out): Linear(in_features=64, out_features=10, bias=True)\n",
      ")\n",
      "tensor([[0.1009, 0.1001, 0.0984, 0.0905, 0.1006, 0.1058, 0.1098, 0.0896, 0.1128,\n",
      "         0.0915]], grad_fn=<SoftmaxBackward>)\n"
     ]
    }
   ],
   "source": [
    "class NeuralNet(nn.Module):\n",
    "    def __init__(self):\n",
    "        \n",
    "        # In python, only the attributes and the methods are inherited from the base class.\n",
    "        # The constructor/__init__ of the base class will not be automatically called.\n",
    "        # Therefore, if we want to call the base class' (nn.Module) constructor/__init__,\n",
    "        # swe must do so explicitly in the derived class (NeuralNet).\n",
    "        super().__init__()\n",
    "        \n",
    "        # Since we will be inputting MNIST dataset into our NN, the number of input nodes\n",
    "        # will be 28*28 = 784\n",
    "        input_layer_neuron_count = 784\n",
    "        \n",
    "        # We are planning to set up a fully connected network with 3 hidden layers with 64\n",
    "        # neurons each. The output of the NN will have 10 neurons - 1 for each digit.\n",
    "        # nn.Linear means a column of neurons that will be fully connected.\n",
    "        \n",
    "        hidden_layer_1_neuron_count = 64\n",
    "        hidden_layer_2_neuron_count = 64\n",
    "        hidden_layer_3_neuron_count = 64\n",
    "        output_layer_neuron_count = 10\n",
    "        \n",
    "        self.in_L1 = nn.Linear(input_layer_neuron_count, hidden_layer_1_neuron_count)\n",
    "        self.L1_L2 = nn.Linear(hidden_layer_1_neuron_count, hidden_layer_2_neuron_count)\n",
    "        self.L2_L3 = nn.Linear(hidden_layer_2_neuron_count, hidden_layer_3_neuron_count)\n",
    "        self.L3_out = nn.Linear(hidden_layer_3_neuron_count, output_layer_neuron_count)\n",
    "\n",
    "    def feed_forward(self, x):\n",
    "        \n",
    "        x = x.view(1, 784)\n",
    "        \n",
    "        l1 = self.in_L1(x)\n",
    "        l1_activated = F.relu(l1)\n",
    "        \n",
    "        l2 = self.L1_L2(l1_activated)\n",
    "        l2_activated = F.relu(l2)\n",
    "        \n",
    "        l3 = self.L2_L3(l2_activated)\n",
    "        l3_activated = F.relu(l3)\n",
    "        \n",
    "        y_hat = self.L3_out(l3_activated)\n",
    "        \n",
    "        # Converting the output to a classification confidence score across 10 classes\n",
    "        # by using softmax.\n",
    "        y_hat = F.softmax(y_hat, dim=1)\n",
    "        \n",
    "        return y_hat\n",
    "        \n",
    "net = NeuralNet()\n",
    "print(net)\n",
    "\n",
    "for data in train_set:\n",
    "    break\n",
    "\n",
    "batch_data = data[0][0]\n",
    "y = net.feed_forward(batch_data[0])\n",
    "print(y)"
   ]
  },
  {
   "cell_type": "code",
   "execution_count": null,
   "id": "e2054e89",
   "metadata": {},
   "outputs": [],
   "source": []
  }
 ],
 "metadata": {
  "kernelspec": {
   "display_name": "Python 3",
   "language": "python",
   "name": "python3"
  },
  "language_info": {
   "codemirror_mode": {
    "name": "ipython",
    "version": 3
   },
   "file_extension": ".py",
   "mimetype": "text/x-python",
   "name": "python",
   "nbconvert_exporter": "python",
   "pygments_lexer": "ipython3",
   "version": "3.7.8"
  }
 },
 "nbformat": 4,
 "nbformat_minor": 5
}
