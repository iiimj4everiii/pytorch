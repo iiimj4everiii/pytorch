{
 "cells": [
  {
   "cell_type": "markdown",
   "id": "bf9a2267",
   "metadata": {},
   "source": [
    "# Setting up all the data needed for training and testing."
   ]
  },
  {
   "cell_type": "code",
   "execution_count": 1,
   "id": "a200d28b",
   "metadata": {},
   "outputs": [],
   "source": [
    "import torch\n",
    "import torchvision\n",
    "from torchvision import transforms, datasets\n",
    "\n",
    "train = datasets.MNIST(\"data\", train=True, download=True,\n",
    "                      transform=transforms.Compose([transforms.ToTensor()]))\n",
    "\n",
    "test = datasets.MNIST(\"data\", train=False, download=True,\n",
    "                    transform=transforms.Compose([transforms.ToTensor()]))\n",
    "\n",
    "BATCH_SIZE = 10\n",
    "\n",
    "train_set = torch.utils.data.DataLoader(train, batch_size=BATCH_SIZE, shuffle=True)\n",
    "test_set = torch.utils.data.DataLoader(test, batch_size=BATCH_SIZE, shuffle=True)"
   ]
  },
  {
   "cell_type": "markdown",
   "id": "06fd7d13",
   "metadata": {},
   "source": [
    "# Importing libraries to help us build and train NN."
   ]
  },
  {
   "cell_type": "code",
   "execution_count": 2,
   "id": "a1bdeb4f",
   "metadata": {},
   "outputs": [],
   "source": [
    "import torch.nn as nn\n",
    "import torch.nn.functional as F"
   ]
  },
  {
   "cell_type": "markdown",
   "id": "02cf1640",
   "metadata": {},
   "source": [
    "# OOP - Building a NN class inheriting from nn.Module."
   ]
  },
  {
   "cell_type": "code",
   "execution_count": 3,
   "id": "e18eeec3",
   "metadata": {},
   "outputs": [
    {
     "name": "stdout",
     "output_type": "stream",
     "text": [
      "NeuralNet(\n",
      "  (in_L1): Linear(in_features=784, out_features=64, bias=True)\n",
      "  (L1_L2): Linear(in_features=64, out_features=64, bias=True)\n",
      "  (L2_L3): Linear(in_features=64, out_features=64, bias=True)\n",
      "  (L3_out): Linear(in_features=64, out_features=10, bias=True)\n",
      ")\n",
      "tensor([[-2.2735, -2.2507, -2.2208, -2.4208, -2.3247, -2.2569, -2.3567, -2.3664,\n",
      "         -2.3265, -2.2474]], grad_fn=<LogSoftmaxBackward>)\n"
     ]
    }
   ],
   "source": [
    "class NeuralNet(nn.Module):\n",
    "    def __init__(self):\n",
    "        \n",
    "        # In python, only the attributes and the methods are inherited from the base class.\n",
    "        # The constructor/__init__ of the base class will not be automatically called.\n",
    "        # Therefore, if we want to call the base class' (nn.Module) constructor/__init__,\n",
    "        # swe must do so explicitly in the derived class (NeuralNet).\n",
    "        super().__init__()\n",
    "        \n",
    "        # Since we will be inputting MNIST dataset into our NN, the number of input nodes\n",
    "        # will be 28*28 = 784\n",
    "        input_layer_neuron_count = 784\n",
    "        \n",
    "        # We are planning to set up a fully connected network with 3 hidden layers with 64\n",
    "        # neurons each. The output of the NN will have 10 neurons - 1 for each digit.\n",
    "        # nn.Linear means a column of neurons that will be fully connected.\n",
    "        \n",
    "        hidden_layer_1_neuron_count = 64\n",
    "        hidden_layer_2_neuron_count = 64\n",
    "        hidden_layer_3_neuron_count = 64\n",
    "        output_layer_neuron_count = 10\n",
    "        \n",
    "        self.in_L1 = nn.Linear(input_layer_neuron_count, hidden_layer_1_neuron_count)\n",
    "        self.L1_L2 = nn.Linear(hidden_layer_1_neuron_count, hidden_layer_2_neuron_count)\n",
    "        self.L2_L3 = nn.Linear(hidden_layer_2_neuron_count, hidden_layer_3_neuron_count)\n",
    "        self.L3_out = nn.Linear(hidden_layer_3_neuron_count, output_layer_neuron_count)\n",
    "\n",
    "    def forward(self, x):\n",
    "        \n",
    "        l1 = self.in_L1(x)\n",
    "        l1_activated = F.relu(l1)\n",
    "        \n",
    "        l2 = self.L1_L2(l1_activated)\n",
    "        l2_activated = F.relu(l2)\n",
    "        \n",
    "        l3 = self.L2_L3(l2_activated)\n",
    "        l3_activated = F.relu(l3)\n",
    "        \n",
    "        y_hat = self.L3_out(l3_activated)\n",
    "        \n",
    "        # Converting the output to a classification confidence score across 10 classes\n",
    "        # by using softmax.\n",
    "        y_hat = F.log_softmax(y_hat, dim=1)\n",
    "        \n",
    "        return y_hat\n",
    "        \n",
    "net = NeuralNet()\n",
    "print(net)\n",
    "\n",
    "for data in train_set:\n",
    "    break\n",
    "\n",
    "batch_data = data[0][0]\n",
    "y_hat = net(batch_data[0].view(1, 784))\n",
    "print(y_hat)"
   ]
  },
  {
   "cell_type": "markdown",
   "id": "0179f15d",
   "metadata": {},
   "source": [
    "# Setting up optmizer for backpropagation/learning"
   ]
  },
  {
   "cell_type": "code",
   "execution_count": 4,
   "id": "596ba293",
   "metadata": {},
   "outputs": [
    {
     "name": "stdout",
     "output_type": "stream",
     "text": [
      "tensor(0.2348, grad_fn=<NllLossBackward>)\n",
      "tensor(0.0461, grad_fn=<NllLossBackward>)\n",
      "tensor(0.0879, grad_fn=<NllLossBackward>)\n",
      "tensor(0.0056, grad_fn=<NllLossBackward>)\n",
      "tensor(3.3699e-05, grad_fn=<NllLossBackward>)\n",
      "tensor(0.0006, grad_fn=<NllLossBackward>)\n",
      "tensor(1.1560, grad_fn=<NllLossBackward>)\n",
      "tensor(0.0124, grad_fn=<NllLossBackward>)\n",
      "tensor(0.0555, grad_fn=<NllLossBackward>)\n",
      "tensor(0.0001, grad_fn=<NllLossBackward>)\n"
     ]
    }
   ],
   "source": [
    "import torch.optim as optim\n",
    "\n",
    "# Creating an optimizer object and pass in the parameters of our neural net to be optimized.\n",
    "# In this case, we are using Adam = AdaGrad + RMSProp optimizer\n",
    "optimizer = optim.Adam(net.parameters(), lr=0.001)\n",
    "\n",
    "EPOCHS = 10\n",
    "for epoch in range(EPOCHS):\n",
    "    for batch_data in train_set:\n",
    "        \n",
    "        X, y = batch_data\n",
    "        \n",
    "        # In PyTorch, for every mini-batch during the training phase, we need to explicitly\n",
    "        # set the gradients to zero before starting to do backpropragation (i.e., updation\n",
    "        # of Weights and biases) because PyTorch accumulates the gradients on subsequent\n",
    "        # backward passes. This is convenient while training RNNs. So, the default action has\n",
    "        # been set to accumulate (i.e. sum) the gradients on every loss.backward() call.\n",
    "        # Because of this, when you start your training loop, ideally you should zero out the\n",
    "        # gradients so that you do the parameter update correctly. Else the gradient would\n",
    "        # point in some other direction than the intended direction towards the minimum (or\n",
    "        # maximum, in case of maximization objectives).\n",
    "        net.zero_grad()\n",
    "        \n",
    "        y_hat = net(X.view(BATCH_SIZE, 784))\n",
    "        \n",
    "        loss = F.nll_loss(y_hat, y)    # negative log-likelihood loss\n",
    "        # loss = F.mse_loss(y_hat, y)  # mean squared error\n",
    "        loss.backward()\n",
    "        \n",
    "        optimizer.step()\n",
    "    \n",
    "    print(loss)\n",
    "        "
   ]
  },
  {
   "cell_type": "code",
   "execution_count": 5,
   "id": "1d76ff3c",
   "metadata": {},
   "outputs": [
    {
     "name": "stdout",
     "output_type": "stream",
     "text": [
      "Accuracy:  97.39\n"
     ]
    }
   ],
   "source": [
    "correct = 0\n",
    "total = 0\n",
    "\n",
    "with torch.no_grad():\n",
    "    for batch_data in test_set:\n",
    "        X, y = batch_data\n",
    "        output = net(X.view(BATCH_SIZE, 784))\n",
    "        \n",
    "        for idx, i in enumerate(output):\n",
    "            max_argument = torch.argmax(i)\n",
    "            if max_argument == y[idx]:\n",
    "                correct += 1\n",
    "            total += 1\n",
    "\n",
    "print(\"Accuracy: \", correct * 100 / total)\n",
    "\n",
    "# import numpy as np\n",
    "# l = np.array([1,2,5,4,3])\n",
    "# print(np.argmax(l))"
   ]
  },
  {
   "cell_type": "code",
   "execution_count": 16,
   "id": "5116b678",
   "metadata": {},
   "outputs": [
    {
     "data": {
      "image/png": "[encoded data removed]",
      "text/plain": [
       "<Figure size 432x288 with 1 Axes>"
      ]
     },
     "metadata": {
      "needs_background": "light"
     },
     "output_type": "display_data"
    },
    {
     "name": "stdout",
     "output_type": "stream",
     "text": [
      "tensor(2)\n"
     ]
    },
    {
     "data": {
      "image/png": "[encoded data removed]",
      "text/plain": [
       "<Figure size 432x288 with 1 Axes>"
      ]
     },
     "metadata": {
      "needs_background": "light"
     },
     "output_type": "display_data"
    },
    {
     "name": "stdout",
     "output_type": "stream",
     "text": [
      "tensor(9)\n"
     ]
    },
    {
     "data": {
      "image/png": "[encoded data removed]",
      "text/plain": [
       "<Figure size 432x288 with 1 Axes>"
      ]
     },
     "metadata": {
      "needs_background": "light"
     },
     "output_type": "display_data"
    },
    {
     "name": "stdout",
     "output_type": "stream",
     "text": [
      "tensor(4)\n"
     ]
    },
    {
     "data": {
      "image/png": "[encoded data removed]",
      "text/plain": [
       "<Figure size 432x288 with 1 Axes>"
      ]
     },
     "metadata": {
      "needs_background": "light"
     },
     "output_type": "display_data"
    },
    {
     "name": "stdout",
     "output_type": "stream",
     "text": [
      "tensor(2)\n"
     ]
    },
    {
     "data": {
      "image/png": "[encoded data removed]",
      "text/plain": [
       "<Figure size 432x288 with 1 Axes>"
      ]
     },
     "metadata": {
      "needs_background": "light"
     },
     "output_type": "display_data"
    },
    {
     "name": "stdout",
     "output_type": "stream",
     "text": [
      "tensor(2)\n"
     ]
    },
    {
     "data": {
      "image/png": "[encoded data removed]",
      "text/plain": [
       "<Figure size 432x288 with 1 Axes>"
      ]
     },
     "metadata": {
      "needs_background": "light"
     },
     "output_type": "display_data"
    },
    {
     "name": "stdout",
     "output_type": "stream",
     "text": [
      "tensor(9)\n"
     ]
    },
    {
     "data": {
      "image/png": "[encoded data removed]",
      "text/plain": [
       "<Figure size 432x288 with 1 Axes>"
      ]
     },
     "metadata": {
      "needs_background": "light"
     },
     "output_type": "display_data"
    },
    {
     "name": "stdout",
     "output_type": "stream",
     "text": [
      "tensor(2)\n"
     ]
    },
    {
     "data": {
      "image/png": "[encoded data removed]",
      "text/plain": [
       "<Figure size 432x288 with 1 Axes>"
      ]
     },
     "metadata": {
      "needs_background": "light"
     },
     "output_type": "display_data"
    },
    {
     "name": "stdout",
     "output_type": "stream",
     "text": [
      "tensor(5)\n"
     ]
    },
    {
     "data": {
      "image/png": "[encoded data removed]",
      "text/plain": [
       "<Figure size 432x288 with 1 Axes>"
      ]
     },
     "metadata": {
      "needs_background": "light"
     },
     "output_type": "display_data"
    },
    {
     "name": "stdout",
     "output_type": "stream",
     "text": [
      "tensor(9)\n"
     ]
    },
    {
     "data": {
      "image/png": "[encoded data removed]",
      "text/plain": [
       "<Figure size 432x288 with 1 Axes>"
      ]
     },
     "metadata": {
      "needs_background": "light"
     },
     "output_type": "display_data"
    },
    {
     "name": "stdout",
     "output_type": "stream",
     "text": [
      "tensor(7)\n"
     ]
    }
   ],
   "source": [
    "import matplotlib.pyplot as plt\n",
    "\n",
    "for i in range(BATCH_SIZE):\n",
    "    plt.imshow(X[i].view(28, 28))\n",
    "    plt.show()\n",
    "    print(torch.argmax(output[i]))"
   ]
  },
  {
   "cell_type": "code",
   "execution_count": null,
   "id": "ddd36460",
   "metadata": {},
   "outputs": [],
   "source": []
  }
 ],
 "metadata": {
  "kernelspec": {
   "display_name": "Python 3",
   "language": "python",
   "name": "python3"
  },
  "language_info": {
   "codemirror_mode": {
    "name": "ipython",
    "version": 3
   },
   "file_extension": ".py",
   "mimetype": "text/x-python",
   "name": "python",
   "nbconvert_exporter": "python",
   "pygments_lexer": "ipython3",
   "version": "3.7.8"
  }
 },
 "nbformat": 4,
 "nbformat_minor": 5
}
