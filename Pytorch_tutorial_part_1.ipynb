{
 "cells": [
  {
   "cell_type": "markdown",
   "id": "ffcf845f",
   "metadata": {},
   "source": [
    "# Importing pytorch and checking it"
   ]
  },
  {
   "cell_type": "code",
   "execution_count": null,
   "id": "6700ed0b",
   "metadata": {},
   "outputs": [],
   "source": [
    "import torch\n",
    "\n",
    "x = torch.Tensor([5, 3])\n",
    "y = torch.Tensor([2, 1])\n",
    "\n",
    "print(x * y)"
   ]
  },
  {
   "cell_type": "markdown",
   "id": "ff1dad51",
   "metadata": {},
   "source": [
    "# pytorch is very similar to numpy. The difference is pytorch can perform matrix calculations on a GPU. Notice the familiar methods resembling numpy methods."
   ]
  },
  {
   "cell_type": "code",
   "execution_count": 3,
   "id": "b78f803c",
   "metadata": {},
   "outputs": [
    {
     "name": "stdout",
     "output_type": "stream",
     "text": [
      "tensor([[0., 0., 0., 0., 0.],\n",
      "        [0., 0., 0., 0., 0.]])\n"
     ]
    }
   ],
   "source": [
    "x = torch.zeros([2, 5])\n",
    "print(x)"
   ]
  },
  {
   "cell_type": "code",
   "execution_count": 4,
   "id": "c6190f51",
   "metadata": {},
   "outputs": [
    {
     "data": {
      "text/plain": [
       "torch.Size([2, 5])"
      ]
     },
     "execution_count": 4,
     "metadata": {},
     "output_type": "execute_result"
    }
   ],
   "source": [
    "x.shape"
   ]
  },
  {
   "cell_type": "code",
   "execution_count": 6,
   "id": "1c793edf",
   "metadata": {},
   "outputs": [
    {
     "name": "stdout",
     "output_type": "stream",
     "text": [
      "tensor([[0.6666, 0.4327, 0.5153, 0.5470, 0.7817],\n",
      "        [0.9177, 0.9113, 0.3972, 0.8922, 0.7879]])\n"
     ]
    }
   ],
   "source": [
    "y = torch.rand([2, 5])\n",
    "print(y)"
   ]
  },
  {
   "cell_type": "markdown",
   "id": "37c69f90",
   "metadata": {},
   "source": [
    "# Reshaping in torch"
   ]
  },
  {
   "cell_type": "code",
   "execution_count": 7,
   "id": "6f109d56",
   "metadata": {},
   "outputs": [
    {
     "name": "stdout",
     "output_type": "stream",
     "text": [
      "tensor([[0.6666, 0.4327, 0.5153, 0.5470, 0.7817, 0.9177, 0.9113, 0.3972, 0.8922,\n",
      "         0.7879]])\n"
     ]
    }
   ],
   "source": [
    "#Reshaping from size 2x5 to size 1x10. Then assign it back to y.\n",
    "y = y.view([1, 10])\n",
    "print(y)"
   ]
  },
  {
   "cell_type": "code",
   "execution_count": null,
   "id": "8de46f00",
   "metadata": {},
   "outputs": [],
   "source": []
  }
 ],
 "metadata": {
  "kernelspec": {
   "display_name": "Python 3",
   "language": "python",
   "name": "python3"
  },
  "language_info": {
   "codemirror_mode": {
    "name": "ipython",
    "version": 3
   },
   "file_extension": ".py",
   "mimetype": "text/x-python",
   "name": "python",
   "nbconvert_exporter": "python",
   "pygments_lexer": "ipython3",
   "version": "3.7.8"
  }
 },
 "nbformat": 4,
 "nbformat_minor": 5
}
